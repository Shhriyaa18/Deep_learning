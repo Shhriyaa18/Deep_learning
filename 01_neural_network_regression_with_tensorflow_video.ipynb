{
  "nbformat": 4,
  "nbformat_minor": 0,
  "metadata": {
    "colab": {
      "provenance": []
    },
    "kernelspec": {
      "name": "python3",
      "display_name": "Python 3"
    },
    "language_info": {
      "name": "python"
    }
  },
  "cells": [
    {
      "cell_type": "markdown",
      "source": [
        "Introduction to regression with neural network in tensorflow\n",
        "\n",
        "There are many definitions for a regression problem, but in our case, we are going to simply it : predicting a numerical variable based on some other combination of variables, even shorter... predicting a number"
      ],
      "metadata": {
        "id": "AdSJhoFD31m4"
      }
    },
    {
      "cell_type": "code",
      "execution_count": null,
      "metadata": {
        "colab": {
          "base_uri": "https://localhost:8080/"
        },
        "id": "W8Rb2Biz3bux",
        "outputId": "7b78aea4-5f28-419d-f83c-a2ddc99cb56a"
      },
      "outputs": [
        {
          "output_type": "stream",
          "name": "stdout",
          "text": [
            "2.15.0\n"
          ]
        }
      ],
      "source": [
        "#import tensorflow\n",
        "import tensorflow as tf\n",
        "print(tf.__version__)"
      ]
    },
    {
      "cell_type": "markdown",
      "source": [
        "##Create data to view and fit"
      ],
      "metadata": {
        "id": "409WrNjY52YS"
      }
    },
    {
      "cell_type": "code",
      "source": [
        "import numpy as np\n",
        "import matplotlib.pyplot as plt\n",
        "\n",
        "#create features\n",
        "X = np.array([-7.0, -4.0, -1.0, 2.0, 5.0, 8.0, 11.0, 14.0 ])\n",
        "\n",
        "#create labels\n",
        "y = np.array([3.0, 6.0, 9.0, 12.0, 15.0, 18.0, 21.0, 24.0])\n",
        "\n",
        "#visualize it\n",
        "plt.scatter(X,y);\n"
      ],
      "metadata": {
        "colab": {
          "base_uri": "https://localhost:8080/",
          "height": 435
        },
        "id": "XXWRe6Rj55oy",
        "outputId": "cc782bf5-d0fd-4b64-8873-8889da892f1e"
      },
      "execution_count": null,
      "outputs": [
        {
          "output_type": "display_data",
          "data": {
            "text/plain": [
              "<Figure size 640x480 with 1 Axes>"
            ],
            "image/png": "[encoded data removed]"
          },
          "metadata": {}
        }
      ]
    },
    {
      "cell_type": "code",
      "source": [
        "y == X + 10"
      ],
      "metadata": {
        "colab": {
          "base_uri": "https://localhost:8080/"
        },
        "id": "xoU2DED38dam",
        "outputId": "e43b41c1-c149-4270-fb46-86515fb05604"
      },
      "execution_count": null,
      "outputs": [
        {
          "output_type": "execute_result",
          "data": {
            "text/plain": [
              "array([ True,  True,  True,  True,  True,  True,  True,  True])"
            ]
          },
          "metadata": {},
          "execution_count": 3
        }
      ]
    },
    {
      "cell_type": "markdown",
      "source": [
        "##Input and output shapes"
      ],
      "metadata": {
        "id": "Z-c0eZdd8uRo"
      }
    },
    {
      "cell_type": "code",
      "source": [
        "#Create a demo tensor for housig price prediction problem\n",
        "house_info = tf.constant([\"bedroom\", \"bathroom\", \"garage\"])\n",
        "house_price= tf.constant([987500])\n",
        "house_info, house_price"
      ],
      "metadata": {
        "colab": {
          "base_uri": "https://localhost:8080/"
        },
        "id": "CIuNB7Lq9GNq",
        "outputId": "93927e4f-0369-4ebb-c249-3d0cf2042555"
      },
      "execution_count": null,
      "outputs": [
        {
          "output_type": "execute_result",
          "data": {
            "text/plain": [
              "(<tf.Tensor: shape=(3,), dtype=string, numpy=array([b'bedroom', b'bathroom', b'garage'], dtype=object)>,\n",
              " <tf.Tensor: shape=(1,), dtype=int32, numpy=array([987500], dtype=int32)>)"
            ]
          },
          "metadata": {},
          "execution_count": 4
        }
      ]
    },
    {
      "cell_type": "code",
      "source": [
        "X[0], y[0]"
      ],
      "metadata": {
        "colab": {
          "base_uri": "https://localhost:8080/"
        },
        "id": "5cQZoJHh9-PR",
        "outputId": "06457f7c-9682-4b15-ddc0-2ee2a8cfe22d"
      },
      "execution_count": null,
      "outputs": [
        {
          "output_type": "execute_result",
          "data": {
            "text/plain": [
              "(-7.0, 3.0)"
            ]
          },
          "metadata": {},
          "execution_count": 5
        }
      ]
    },
    {
      "cell_type": "code",
      "source": [
        "X[1], y[1]"
      ],
      "metadata": {
        "colab": {
          "base_uri": "https://localhost:8080/"
        },
        "id": "8_mKrlYO-BJj",
        "outputId": "43849865-b532-48df-994b-9709d50f3f7f"
      },
      "execution_count": null,
      "outputs": [
        {
          "output_type": "execute_result",
          "data": {
            "text/plain": [
              "(-4.0, 6.0)"
            ]
          },
          "metadata": {},
          "execution_count": 6
        }
      ]
    },
    {
      "cell_type": "code",
      "source": [
        "input_shape = X[0].shape\n",
        "output_shape = y[0].shape\n",
        "input_shape, output_shape"
      ],
      "metadata": {
        "colab": {
          "base_uri": "https://localhost:8080/"
        },
        "id": "5-VnMtIz9pC7",
        "outputId": "20d11cda-01d4-4350-d594-deec69de4567"
      },
      "execution_count": null,
      "outputs": [
        {
          "output_type": "execute_result",
          "data": {
            "text/plain": [
              "((), ())"
            ]
          },
          "metadata": {},
          "execution_count": 7
        }
      ]
    },
    {
      "cell_type": "code",
      "source": [
        "X[0].ndim"
      ],
      "metadata": {
        "colab": {
          "base_uri": "https://localhost:8080/"
        },
        "id": "jf_QkLQG-YWQ",
        "outputId": "2361f489-fd52-4478-895c-20a51efd0a67"
      },
      "execution_count": null,
      "outputs": [
        {
          "output_type": "execute_result",
          "data": {
            "text/plain": [
              "0"
            ]
          },
          "metadata": {},
          "execution_count": 8
        }
      ]
    },
    {
      "cell_type": "code",
      "source": [
        "#turn our numpy arrays into tensors with dtype float32\n",
        "X = tf.cast(tf.constant(X), dtype=tf.float32)\n",
        "y = tf.cast(tf.constant(y), dtype=tf.float32)\n",
        "X,y"
      ],
      "metadata": {
        "colab": {
          "base_uri": "https://localhost:8080/"
        },
        "id": "cvsUKqN3-5Pq",
        "outputId": "e18823db-1f32-486e-a8cc-e1dac1b58f4a"
      },
      "execution_count": null,
      "outputs": [
        {
          "output_type": "execute_result",
          "data": {
            "text/plain": [
              "(<tf.Tensor: shape=(8,), dtype=float32, numpy=array([-7., -4., -1.,  2.,  5.,  8., 11., 14.], dtype=float32)>,\n",
              " <tf.Tensor: shape=(8,), dtype=float32, numpy=array([ 3.,  6.,  9., 12., 15., 18., 21., 24.], dtype=float32)>)"
            ]
          },
          "metadata": {},
          "execution_count": 9
        }
      ]
    },
    {
      "cell_type": "code",
      "source": [
        "#when there is no dimension, they are scalar\n",
        "input_shape = X[0].shape\n",
        "output_shape = y[0].shape\n",
        "input_shape, output_shape"
      ],
      "metadata": {
        "colab": {
          "base_uri": "https://localhost:8080/"
        },
        "id": "kh9gzowx_J5v",
        "outputId": "dc27643d-acf9-4a64-c5cd-f7824b7c5a6c"
      },
      "execution_count": null,
      "outputs": [
        {
          "output_type": "execute_result",
          "data": {
            "text/plain": [
              "(TensorShape([]), TensorShape([]))"
            ]
          },
          "metadata": {},
          "execution_count": 10
        }
      ]
    },
    {
      "cell_type": "code",
      "source": [
        "plt.scatter(X,y)"
      ],
      "metadata": {
        "colab": {
          "base_uri": "https://localhost:8080/",
          "height": 452
        },
        "id": "jz1PRFK6_7Ue",
        "outputId": "653eb583-2faf-4b94-91e5-f04a8018a177"
      },
      "execution_count": null,
      "outputs": [
        {
          "output_type": "execute_result",
          "data": {
            "text/plain": [
              "<matplotlib.collections.PathCollection at 0x7bfe3cd17b50>"
            ]
          },
          "metadata": {},
          "execution_count": 11
        },
        {
          "output_type": "display_data",
          "data": {
            "text/plain": [
              "<Figure size 640x480 with 1 Axes>"
            ],
            "image/png": "[encoded data removed]"
          },
          "metadata": {}
        }
      ]
    },
    {
      "cell_type": "markdown",
      "source": [
        "##Steps in modelling with tensorflow\n",
        "\n",
        "1. **Creating a model** - define the input and output layer, as well as the hidden layer of a deep learning model\n",
        "\n",
        "2. **Compiling a model** - define the loss function(in other words, the function which tells our model how wrong it is) and the optimizer(tells our model how to improve the patterns its learning) and evaluation metrics\n",
        "(what we can use to interpret the performance of our model)\n",
        "\n",
        "3. **Fitting a model** - letting the model try to find patterns between X & y (features and labels)"
      ],
      "metadata": {
        "id": "PMsAGGnW_-x0"
      }
    },
    {
      "cell_type": "code",
      "source": [
        "# Another way to add layers\n",
        "#model = tf.keras.Sequential()\n",
        "#model.add(tf.keras.layers.Dense(1))"
      ],
      "metadata": {
        "id": "LZyB1I2lkNNP"
      },
      "execution_count": null,
      "outputs": []
    },
    {
      "cell_type": "code",
      "source": [
        "import tensorflow as tf\n",
        "# Set random seed\n",
        "tf.random.set_seed(42)\n",
        "\n",
        "# 1. Create a model using the sequential API.\n",
        "model = tf.keras.Sequential([\n",
        "    tf.keras.layers.Dense(1)\n",
        "   # you can also write it again tf.keras.layers.Dense(1)\n",
        "])\n",
        "\n",
        "# 2. Compile the model\n",
        "model.compile(loss=tf.keras.losses.mae, # mae is the short form of mean absolute error\n",
        "            optimizer= tf.keras.optimizers.SGD(), # SGD is short for stochastic gradient descent\n",
        "            metrics = [\"mae\"])\n",
        "#Reshape X to be 2D\n",
        "X_reshaped = tf.reshape(X, shape = (8,1))\n",
        "\n",
        "\n",
        "\n",
        "# 3. Fit the model\n",
        "model.fit(X_reshaped,y, epochs=5)"
      ],
      "metadata": {
        "colab": {
          "base_uri": "https://localhost:8080/"
        },
        "id": "GgOOUEe3fHYH",
        "outputId": "a541409b-623f-4031-cc29-ab989b488e3e"
      },
      "execution_count": null,
      "outputs": [
        {
          "output_type": "stream",
          "name": "stdout",
          "text": [
            "Epoch 1/5\n",
            "1/1 [==============================] - 1s 1s/step - loss: 22.0559 - mae: 22.0559\n",
            "Epoch 2/5\n",
            "1/1 [==============================] - 0s 38ms/step - loss: 21.6628 - mae: 21.6628\n",
            "Epoch 3/5\n",
            "1/1 [==============================] - 0s 27ms/step - loss: 21.2696 - mae: 21.2696\n",
            "Epoch 4/5\n",
            "1/1 [==============================] - 0s 26ms/step - loss: 20.8765 - mae: 20.8765\n",
            "Epoch 5/5\n",
            "1/1 [==============================] - 0s 18ms/step - loss: 20.4994 - mae: 20.4994\n"
          ]
        },
        {
          "output_type": "execute_result",
          "data": {
            "text/plain": [
              "<keras.src.callbacks.History at 0x7bfe3cc5fd30>"
            ]
          },
          "metadata": {},
          "execution_count": 13
        }
      ]
    },
    {
      "cell_type": "code",
      "source": [
        "#check out X and y\n",
        "X,y"
      ],
      "metadata": {
        "colab": {
          "base_uri": "https://localhost:8080/"
        },
        "id": "mr9DHIaXraPc",
        "outputId": "9dec7f80-c971-4d60-a143-d2e82d5bd4d2"
      },
      "execution_count": null,
      "outputs": [
        {
          "output_type": "execute_result",
          "data": {
            "text/plain": [
              "(<tf.Tensor: shape=(8,), dtype=float32, numpy=array([-7., -4., -1.,  2.,  5.,  8., 11., 14.], dtype=float32)>,\n",
              " <tf.Tensor: shape=(8,), dtype=float32, numpy=array([ 3.,  6.,  9., 12., 15., 18., 21., 24.], dtype=float32)>)"
            ]
          },
          "metadata": {},
          "execution_count": 14
        }
      ]
    },
    {
      "cell_type": "code",
      "source": [
        "# try and make a prediction using our model\n",
        "y_pred = model.predict([17.0])\n",
        "y_pred"
      ],
      "metadata": {
        "colab": {
          "base_uri": "https://localhost:8080/"
        },
        "id": "Q9FPcDaYrmqg",
        "outputId": "9066d532-9704-4a3e-cde4-f41a1cbb36b1"
      },
      "execution_count": null,
      "outputs": [
        {
          "output_type": "stream",
          "name": "stdout",
          "text": [
            "1/1 [==============================] - 0s 190ms/step\n"
          ]
        },
        {
          "output_type": "execute_result",
          "data": {
            "text/plain": [
              "array([[-24.222008]], dtype=float32)"
            ]
          },
          "metadata": {},
          "execution_count": 15
        }
      ]
    },
    {
      "cell_type": "code",
      "source": [
        "y_pred + 10"
      ],
      "metadata": {
        "colab": {
          "base_uri": "https://localhost:8080/"
        },
        "id": "M2J8YGYPvW1N",
        "outputId": "82d7772f-1187-4897-a9a4-5ece01cf6f6c"
      },
      "execution_count": null,
      "outputs": [
        {
          "output_type": "execute_result",
          "data": {
            "text/plain": [
              "array([[-14.222008]], dtype=float32)"
            ]
          },
          "metadata": {},
          "execution_count": 16
        }
      ]
    },
    {
      "cell_type": "markdown",
      "source": [
        "### Improving the model\n",
        "\n",
        "We can improve our model by altering the steps we took to create a model\n",
        "\n",
        "1. **Creating a model:** Here we might add more layers, increase the number of hidden units( all called neurons) wothin each of the hidden layer, change the activation function of each layer\n",
        "\n",
        "2. **Compiling a model : Here we might change the optimization function or perhaps the **learning rate** of the optimization function\n",
        "\n",
        "3. **Fitting a model: ** Here we might fit a model for more **epochs** (leave it training for longer) or on more data (give the model more examples to learn from)"
      ],
      "metadata": {
        "id": "iY4vrGkzvmvU"
      }
    },
    {
      "cell_type": "code",
      "source": [
        "#Let's rebuild the model\n",
        "\n",
        "#Create a model\n",
        "model = tf.keras.Sequential([\n",
        "    tf.keras.layers.Dense(1)\n",
        "])\n",
        "\n",
        "# Compile the model\n",
        "model.compile(loss=tf.keras.losses.mae,\n",
        "              optimizer = tf.keras.optimizers.SGD(),\n",
        "              metrics=[\"mae\"])\n",
        "\n",
        "X_reshape = tf.reshape(X, shape=(8,1))\n",
        "# Fit the model\n",
        "model.fit(X_reshape,y, epochs = 100)"
      ],
      "metadata": {
        "colab": {
          "base_uri": "https://localhost:8080/"
        },
        "id": "bSZop8eAOSH3",
        "outputId": "40c5511a-edc7-4afe-91c2-28311b44b126"
      },
      "execution_count": null,
      "outputs": [
        {
          "output_type": "stream",
          "name": "stdout",
          "text": [
            "Epoch 1/100\n",
            "1/1 [==============================] - 1s 836ms/step - loss: 11.4445 - mae: 11.4445\n",
            "Epoch 2/100\n",
            "1/1 [==============================] - 0s 36ms/step - loss: 11.3120 - mae: 11.3120\n",
            "Epoch 3/100\n",
            "1/1 [==============================] - 0s 32ms/step - loss: 11.1795 - mae: 11.1795\n",
            "Epoch 4/100\n",
            "1/1 [==============================] - 0s 26ms/step - loss: 11.0470 - mae: 11.0470\n",
            "Epoch 5/100\n",
            "1/1 [==============================] - 0s 26ms/step - loss: 10.9145 - mae: 10.9145\n",
            "Epoch 6/100\n",
            "1/1 [==============================] - 0s 30ms/step - loss: 10.7820 - mae: 10.7820\n",
            "Epoch 7/100\n",
            "1/1 [==============================] - 0s 18ms/step - loss: 10.6495 - mae: 10.6495\n",
            "Epoch 8/100\n",
            "1/1 [==============================] - 0s 27ms/step - loss: 10.5170 - mae: 10.5170\n",
            "Epoch 9/100\n",
            "1/1 [==============================] - 0s 30ms/step - loss: 10.3845 - mae: 10.3845\n",
            "Epoch 10/100\n",
            "1/1 [==============================] - 0s 19ms/step - loss: 10.2520 - mae: 10.2520\n",
            "Epoch 11/100\n",
            "1/1 [==============================] - 0s 35ms/step - loss: 10.1195 - mae: 10.1195\n",
            "Epoch 12/100\n",
            "1/1 [==============================] - 0s 24ms/step - loss: 9.9870 - mae: 9.9870\n",
            "Epoch 13/100\n",
            "1/1 [==============================] - 0s 25ms/step - loss: 9.8545 - mae: 9.8545\n",
            "Epoch 14/100\n",
            "1/1 [==============================] - 0s 19ms/step - loss: 9.7220 - mae: 9.7220\n",
            "Epoch 15/100\n",
            "1/1 [==============================] - 0s 17ms/step - loss: 9.5895 - mae: 9.5895\n",
            "Epoch 16/100\n",
            "1/1 [==============================] - 0s 31ms/step - loss: 9.4570 - mae: 9.4570\n",
            "Epoch 17/100\n",
            "1/1 [==============================] - 0s 44ms/step - loss: 9.3245 - mae: 9.3245\n",
            "Epoch 18/100\n",
            "1/1 [==============================] - 0s 22ms/step - loss: 9.1920 - mae: 9.1920\n",
            "Epoch 19/100\n",
            "1/1 [==============================] - 0s 36ms/step - loss: 9.0595 - mae: 9.0595\n",
            "Epoch 20/100\n",
            "1/1 [==============================] - 0s 36ms/step - loss: 8.9270 - mae: 8.9270\n",
            "Epoch 21/100\n",
            "1/1 [==============================] - 0s 51ms/step - loss: 8.7945 - mae: 8.7945\n",
            "Epoch 22/100\n",
            "1/1 [==============================] - 0s 39ms/step - loss: 8.6620 - mae: 8.6620\n",
            "Epoch 23/100\n",
            "1/1 [==============================] - 0s 33ms/step - loss: 8.5295 - mae: 8.5295\n",
            "Epoch 24/100\n",
            "1/1 [==============================] - 0s 44ms/step - loss: 8.3970 - mae: 8.3970\n",
            "Epoch 25/100\n",
            "1/1 [==============================] - 0s 42ms/step - loss: 8.2645 - mae: 8.2645\n",
            "Epoch 26/100\n",
            "1/1 [==============================] - 0s 45ms/step - loss: 8.1320 - mae: 8.1320\n",
            "Epoch 27/100\n",
            "1/1 [==============================] - 0s 31ms/step - loss: 7.9995 - mae: 7.9995\n",
            "Epoch 28/100\n",
            "1/1 [==============================] - 0s 34ms/step - loss: 7.8670 - mae: 7.8670\n",
            "Epoch 29/100\n",
            "1/1 [==============================] - 0s 41ms/step - loss: 7.7345 - mae: 7.7345\n",
            "Epoch 30/100\n",
            "1/1 [==============================] - 0s 35ms/step - loss: 7.6020 - mae: 7.6020\n",
            "Epoch 31/100\n",
            "1/1 [==============================] - 0s 61ms/step - loss: 7.4695 - mae: 7.4695\n",
            "Epoch 32/100\n",
            "1/1 [==============================] - 0s 46ms/step - loss: 7.3370 - mae: 7.3370\n",
            "Epoch 33/100\n",
            "1/1 [==============================] - 0s 57ms/step - loss: 7.2600 - mae: 7.2600\n",
            "Epoch 34/100\n",
            "1/1 [==============================] - 0s 90ms/step - loss: 7.2544 - mae: 7.2544\n",
            "Epoch 35/100\n",
            "1/1 [==============================] - 0s 74ms/step - loss: 7.2488 - mae: 7.2488\n",
            "Epoch 36/100\n",
            "1/1 [==============================] - 0s 41ms/step - loss: 7.2431 - mae: 7.2431\n",
            "Epoch 37/100\n",
            "1/1 [==============================] - 0s 32ms/step - loss: 7.2375 - mae: 7.2375\n",
            "Epoch 38/100\n",
            "1/1 [==============================] - 0s 32ms/step - loss: 7.2319 - mae: 7.2319\n",
            "Epoch 39/100\n",
            "1/1 [==============================] - 0s 22ms/step - loss: 7.2263 - mae: 7.2263\n",
            "Epoch 40/100\n",
            "1/1 [==============================] - 0s 23ms/step - loss: 7.2206 - mae: 7.2206\n",
            "Epoch 41/100\n",
            "1/1 [==============================] - 0s 34ms/step - loss: 7.2150 - mae: 7.2150\n",
            "Epoch 42/100\n",
            "1/1 [==============================] - 0s 38ms/step - loss: 7.2094 - mae: 7.2094\n",
            "Epoch 43/100\n",
            "1/1 [==============================] - 0s 21ms/step - loss: 7.2038 - mae: 7.2038\n",
            "Epoch 44/100\n",
            "1/1 [==============================] - 0s 26ms/step - loss: 7.1981 - mae: 7.1981\n",
            "Epoch 45/100\n",
            "1/1 [==============================] - 0s 26ms/step - loss: 7.1925 - mae: 7.1925\n",
            "Epoch 46/100\n",
            "1/1 [==============================] - 0s 23ms/step - loss: 7.1869 - mae: 7.1869\n",
            "Epoch 47/100\n",
            "1/1 [==============================] - 0s 31ms/step - loss: 7.1812 - mae: 7.1812\n",
            "Epoch 48/100\n",
            "1/1 [==============================] - 0s 22ms/step - loss: 7.1756 - mae: 7.1756\n",
            "Epoch 49/100\n",
            "1/1 [==============================] - 0s 56ms/step - loss: 7.1700 - mae: 7.1700\n",
            "Epoch 50/100\n",
            "1/1 [==============================] - 0s 31ms/step - loss: 7.1644 - mae: 7.1644\n",
            "Epoch 51/100\n",
            "1/1 [==============================] - 0s 21ms/step - loss: 7.1588 - mae: 7.1588\n",
            "Epoch 52/100\n",
            "1/1 [==============================] - 0s 22ms/step - loss: 7.1531 - mae: 7.1531\n",
            "Epoch 53/100\n",
            "1/1 [==============================] - 0s 52ms/step - loss: 7.1475 - mae: 7.1475\n",
            "Epoch 54/100\n",
            "1/1 [==============================] - 0s 53ms/step - loss: 7.1419 - mae: 7.1419\n",
            "Epoch 55/100\n",
            "1/1 [==============================] - 0s 70ms/step - loss: 7.1363 - mae: 7.1363\n",
            "Epoch 56/100\n",
            "1/1 [==============================] - 0s 50ms/step - loss: 7.1306 - mae: 7.1306\n",
            "Epoch 57/100\n",
            "1/1 [==============================] - 0s 49ms/step - loss: 7.1250 - mae: 7.1250\n",
            "Epoch 58/100\n",
            "1/1 [==============================] - 0s 62ms/step - loss: 7.1194 - mae: 7.1194\n",
            "Epoch 59/100\n",
            "1/1 [==============================] - 0s 64ms/step - loss: 7.1137 - mae: 7.1137\n",
            "Epoch 60/100\n",
            "1/1 [==============================] - 0s 48ms/step - loss: 7.1081 - mae: 7.1081\n",
            "Epoch 61/100\n",
            "1/1 [==============================] - 0s 35ms/step - loss: 7.1025 - mae: 7.1025\n",
            "Epoch 62/100\n",
            "1/1 [==============================] - 0s 37ms/step - loss: 7.0969 - mae: 7.0969\n",
            "Epoch 63/100\n",
            "1/1 [==============================] - 0s 53ms/step - loss: 7.0912 - mae: 7.0912\n",
            "Epoch 64/100\n",
            "1/1 [==============================] - 0s 51ms/step - loss: 7.0856 - mae: 7.0856\n",
            "Epoch 65/100\n",
            "1/1 [==============================] - 0s 42ms/step - loss: 7.0800 - mae: 7.0800\n",
            "Epoch 66/100\n",
            "1/1 [==============================] - 0s 47ms/step - loss: 7.0744 - mae: 7.0744\n",
            "Epoch 67/100\n",
            "1/1 [==============================] - 0s 65ms/step - loss: 7.0688 - mae: 7.0688\n",
            "Epoch 68/100\n",
            "1/1 [==============================] - 0s 60ms/step - loss: 7.0631 - mae: 7.0631\n",
            "Epoch 69/100\n",
            "1/1 [==============================] - 0s 37ms/step - loss: 7.0575 - mae: 7.0575\n",
            "Epoch 70/100\n",
            "1/1 [==============================] - 0s 48ms/step - loss: 7.0519 - mae: 7.0519\n",
            "Epoch 71/100\n",
            "1/1 [==============================] - 0s 28ms/step - loss: 7.0463 - mae: 7.0463\n",
            "Epoch 72/100\n",
            "1/1 [==============================] - 0s 46ms/step - loss: 7.0406 - mae: 7.0406\n",
            "Epoch 73/100\n",
            "1/1 [==============================] - 0s 42ms/step - loss: 7.0350 - mae: 7.0350\n",
            "Epoch 74/100\n",
            "1/1 [==============================] - 0s 37ms/step - loss: 7.0294 - mae: 7.0294\n",
            "Epoch 75/100\n",
            "1/1 [==============================] - 0s 26ms/step - loss: 7.0238 - mae: 7.0238\n",
            "Epoch 76/100\n",
            "1/1 [==============================] - 0s 40ms/step - loss: 7.0181 - mae: 7.0181\n",
            "Epoch 77/100\n",
            "1/1 [==============================] - 0s 30ms/step - loss: 7.0125 - mae: 7.0125\n",
            "Epoch 78/100\n",
            "1/1 [==============================] - 0s 42ms/step - loss: 7.0069 - mae: 7.0069\n",
            "Epoch 79/100\n",
            "1/1 [==============================] - 0s 55ms/step - loss: 7.0013 - mae: 7.0013\n",
            "Epoch 80/100\n",
            "1/1 [==============================] - 0s 58ms/step - loss: 6.9956 - mae: 6.9956\n",
            "Epoch 81/100\n",
            "1/1 [==============================] - 0s 34ms/step - loss: 6.9900 - mae: 6.9900\n",
            "Epoch 82/100\n",
            "1/1 [==============================] - 0s 40ms/step - loss: 6.9844 - mae: 6.9844\n",
            "Epoch 83/100\n",
            "1/1 [==============================] - 0s 58ms/step - loss: 6.9788 - mae: 6.9788\n",
            "Epoch 84/100\n",
            "1/1 [==============================] - 0s 37ms/step - loss: 6.9731 - mae: 6.9731\n",
            "Epoch 85/100\n",
            "1/1 [==============================] - 0s 12ms/step - loss: 6.9675 - mae: 6.9675\n",
            "Epoch 86/100\n",
            "1/1 [==============================] - 0s 43ms/step - loss: 6.9619 - mae: 6.9619\n",
            "Epoch 87/100\n",
            "1/1 [==============================] - 0s 58ms/step - loss: 6.9563 - mae: 6.9563\n",
            "Epoch 88/100\n",
            "1/1 [==============================] - 0s 91ms/step - loss: 6.9506 - mae: 6.9506\n",
            "Epoch 89/100\n",
            "1/1 [==============================] - 0s 92ms/step - loss: 6.9450 - mae: 6.9450\n",
            "Epoch 90/100\n",
            "1/1 [==============================] - 0s 70ms/step - loss: 6.9394 - mae: 6.9394\n",
            "Epoch 91/100\n",
            "1/1 [==============================] - 0s 38ms/step - loss: 6.9338 - mae: 6.9338\n",
            "Epoch 92/100\n",
            "1/1 [==============================] - 0s 78ms/step - loss: 6.9281 - mae: 6.9281\n",
            "Epoch 93/100\n",
            "1/1 [==============================] - 0s 76ms/step - loss: 6.9225 - mae: 6.9225\n",
            "Epoch 94/100\n",
            "1/1 [==============================] - 0s 72ms/step - loss: 6.9169 - mae: 6.9169\n",
            "Epoch 95/100\n",
            "1/1 [==============================] - 0s 60ms/step - loss: 6.9113 - mae: 6.9113\n",
            "Epoch 96/100\n",
            "1/1 [==============================] - 0s 48ms/step - loss: 6.9056 - mae: 6.9056\n",
            "Epoch 97/100\n",
            "1/1 [==============================] - 0s 44ms/step - loss: 6.9000 - mae: 6.9000\n",
            "Epoch 98/100\n",
            "1/1 [==============================] - 0s 27ms/step - loss: 6.8944 - mae: 6.8944\n",
            "Epoch 99/100\n",
            "1/1 [==============================] - 0s 26ms/step - loss: 6.8888 - mae: 6.8888\n",
            "Epoch 100/100\n",
            "1/1 [==============================] - 0s 31ms/step - loss: 6.8831 - mae: 6.8831\n"
          ]
        },
        {
          "output_type": "execute_result",
          "data": {
            "text/plain": [
              "<keras.src.callbacks.History at 0x7bfe3c123250>"
            ]
          },
          "metadata": {},
          "execution_count": 17
        }
      ]
    },
    {
      "cell_type": "code",
      "source": [
        "#remind ourself on the data\n",
        "X,y"
      ],
      "metadata": {
        "colab": {
          "base_uri": "https://localhost:8080/"
        },
        "id": "PYulRr8oQYqg",
        "outputId": "9b334740-9c2e-4f90-a60b-f64c6f4d2b32"
      },
      "execution_count": null,
      "outputs": [
        {
          "output_type": "execute_result",
          "data": {
            "text/plain": [
              "(<tf.Tensor: shape=(8,), dtype=float32, numpy=array([-7., -4., -1.,  2.,  5.,  8., 11., 14.], dtype=float32)>,\n",
              " <tf.Tensor: shape=(8,), dtype=float32, numpy=array([ 3.,  6.,  9., 12., 15., 18., 21., 24.], dtype=float32)>)"
            ]
          },
          "metadata": {},
          "execution_count": 18
        }
      ]
    },
    {
      "cell_type": "code",
      "source": [
        "#Let's see if our model prediction improved\n",
        "model.predict([17.0])"
      ],
      "metadata": {
        "colab": {
          "base_uri": "https://localhost:8080/"
        },
        "id": "CjMT6r8KQhB_",
        "outputId": "1b5680b2-74a7-40c5-b406-e1acfa88c2cc"
      },
      "execution_count": null,
      "outputs": [
        {
          "output_type": "stream",
          "name": "stdout",
          "text": [
            "1/1 [==============================] - 0s 342ms/step\n"
          ]
        },
        {
          "output_type": "execute_result",
          "data": {
            "text/plain": [
              "array([[29.853935]], dtype=float32)"
            ]
          },
          "metadata": {},
          "execution_count": 19
        }
      ]
    },
    {
      "cell_type": "code",
      "source": [
        "# Let's again create the model\n",
        "\n",
        "#create a model\n",
        "model = tf.keras.Sequential([\n",
        "    tf.keras.layers.Dense(50, activation=None),\n",
        "    tf.keras.layers.Dense(1)\n",
        "\n",
        "])\n",
        "# compile the model\n",
        "model.compile(loss=tf.keras.losses.mae,\n",
        "              optimizer = tf.keras.optimizers.Adam(learning_rate = 0.1),\n",
        "              metrics = [\"mae\"])\n",
        "\n",
        "X_reshape = tf.reshape(X, shape=(8,1))\n",
        "y_reshape = tf.reshape(y,shape=(8,1))\n",
        "\n",
        "# fit the model\n",
        "model.fit(X_reshape, y_reshape, epochs = 100)"
      ],
      "metadata": {
        "colab": {
          "base_uri": "https://localhost:8080/"
        },
        "id": "1MvkL6BWSDIi",
        "outputId": "43cfaf9f-005c-4dd7-df7f-77388b6af6f1"
      },
      "execution_count": null,
      "outputs": [
        {
          "output_type": "stream",
          "name": "stdout",
          "text": [
            "Epoch 1/100\n",
            "1/1 [==============================] - 2s 2s/step - loss: 15.2665 - mae: 15.2665\n",
            "Epoch 2/100\n",
            "1/1 [==============================] - 0s 21ms/step - loss: 8.5980 - mae: 8.5980\n",
            "Epoch 3/100\n",
            "1/1 [==============================] - 0s 41ms/step - loss: 9.9558 - mae: 9.9558\n",
            "Epoch 4/100\n",
            "1/1 [==============================] - 0s 42ms/step - loss: 9.1298 - mae: 9.1298\n",
            "Epoch 5/100\n",
            "1/1 [==============================] - 0s 24ms/step - loss: 6.0556 - mae: 6.0556\n",
            "Epoch 6/100\n",
            "1/1 [==============================] - 0s 34ms/step - loss: 8.2170 - mae: 8.2170\n",
            "Epoch 7/100\n",
            "1/1 [==============================] - 0s 18ms/step - loss: 7.2875 - mae: 7.2875\n",
            "Epoch 8/100\n",
            "1/1 [==============================] - 0s 25ms/step - loss: 4.2639 - mae: 4.2639\n",
            "Epoch 9/100\n",
            "1/1 [==============================] - 0s 17ms/step - loss: 6.5398 - mae: 6.5398\n",
            "Epoch 10/100\n",
            "1/1 [==============================] - 0s 27ms/step - loss: 7.1250 - mae: 7.1250\n",
            "Epoch 11/100\n",
            "1/1 [==============================] - 0s 26ms/step - loss: 5.0649 - mae: 5.0649\n",
            "Epoch 12/100\n",
            "1/1 [==============================] - 0s 15ms/step - loss: 1.3081 - mae: 1.3081\n",
            "Epoch 13/100\n",
            "1/1 [==============================] - 0s 18ms/step - loss: 4.3570 - mae: 4.3570\n",
            "Epoch 14/100\n",
            "1/1 [==============================] - 0s 13ms/step - loss: 6.0131 - mae: 6.0131\n",
            "Epoch 15/100\n",
            "1/1 [==============================] - 0s 38ms/step - loss: 5.2861 - mae: 5.2861\n",
            "Epoch 16/100\n",
            "1/1 [==============================] - 0s 25ms/step - loss: 2.9030 - mae: 2.9030\n",
            "Epoch 17/100\n",
            "1/1 [==============================] - 0s 19ms/step - loss: 1.8099 - mae: 1.8099\n",
            "Epoch 18/100\n",
            "1/1 [==============================] - 0s 18ms/step - loss: 2.5235 - mae: 2.5235\n",
            "Epoch 19/100\n",
            "1/1 [==============================] - 0s 17ms/step - loss: 2.1527 - mae: 2.1527\n",
            "Epoch 20/100\n",
            "1/1 [==============================] - 0s 22ms/step - loss: 0.8199 - mae: 0.8199\n",
            "Epoch 21/100\n",
            "1/1 [==============================] - 0s 22ms/step - loss: 1.9940 - mae: 1.9940\n",
            "Epoch 22/100\n",
            "1/1 [==============================] - 0s 22ms/step - loss: 2.9319 - mae: 2.9319\n",
            "Epoch 23/100\n",
            "1/1 [==============================] - 0s 20ms/step - loss: 2.9686 - mae: 2.9686\n",
            "Epoch 24/100\n",
            "1/1 [==============================] - 0s 27ms/step - loss: 2.3253 - mae: 2.3253\n",
            "Epoch 25/100\n",
            "1/1 [==============================] - 0s 18ms/step - loss: 1.0196 - mae: 1.0196\n",
            "Epoch 26/100\n",
            "1/1 [==============================] - 0s 21ms/step - loss: 1.4045 - mae: 1.4045\n",
            "Epoch 27/100\n",
            "1/1 [==============================] - 0s 18ms/step - loss: 2.4092 - mae: 2.4092\n",
            "Epoch 28/100\n",
            "1/1 [==============================] - 0s 18ms/step - loss: 2.3199 - mae: 2.3199\n",
            "Epoch 29/100\n",
            "1/1 [==============================] - 0s 20ms/step - loss: 1.3347 - mae: 1.3347\n",
            "Epoch 30/100\n",
            "1/1 [==============================] - 0s 31ms/step - loss: 0.4655 - mae: 0.4655\n",
            "Epoch 31/100\n",
            "1/1 [==============================] - 0s 23ms/step - loss: 1.1757 - mae: 1.1757\n",
            "Epoch 32/100\n",
            "1/1 [==============================] - 0s 29ms/step - loss: 1.0268 - mae: 1.0268\n",
            "Epoch 33/100\n",
            "1/1 [==============================] - 0s 21ms/step - loss: 0.1526 - mae: 0.1526\n",
            "Epoch 34/100\n",
            "1/1 [==============================] - 0s 45ms/step - loss: 1.5305 - mae: 1.5305\n",
            "Epoch 35/100\n",
            "1/1 [==============================] - 0s 45ms/step - loss: 2.1277 - mae: 2.1277\n",
            "Epoch 36/100\n",
            "1/1 [==============================] - 0s 53ms/step - loss: 1.7145 - mae: 1.7145\n",
            "Epoch 37/100\n",
            "1/1 [==============================] - 0s 38ms/step - loss: 0.5864 - mae: 0.5864\n",
            "Epoch 38/100\n",
            "1/1 [==============================] - 0s 36ms/step - loss: 1.4529 - mae: 1.4529\n",
            "Epoch 39/100\n",
            "1/1 [==============================] - 0s 31ms/step - loss: 2.1441 - mae: 2.1441\n",
            "Epoch 40/100\n",
            "1/1 [==============================] - 0s 35ms/step - loss: 2.1099 - mae: 2.1099\n",
            "Epoch 41/100\n",
            "1/1 [==============================] - 0s 38ms/step - loss: 1.6048 - mae: 1.6048\n",
            "Epoch 42/100\n",
            "1/1 [==============================] - 0s 27ms/step - loss: 0.7441 - mae: 0.7441\n",
            "Epoch 43/100\n",
            "1/1 [==============================] - 0s 29ms/step - loss: 1.3667 - mae: 1.3667\n",
            "Epoch 44/100\n",
            "1/1 [==============================] - 0s 22ms/step - loss: 1.2841 - mae: 1.2841\n",
            "Epoch 45/100\n",
            "1/1 [==============================] - 0s 39ms/step - loss: 0.5674 - mae: 0.5674\n",
            "Epoch 46/100\n",
            "1/1 [==============================] - 0s 53ms/step - loss: 0.9999 - mae: 0.9999\n",
            "Epoch 47/100\n",
            "1/1 [==============================] - 0s 64ms/step - loss: 1.4148 - mae: 1.4148\n",
            "Epoch 48/100\n",
            "1/1 [==============================] - 0s 42ms/step - loss: 1.0994 - mae: 1.0994\n",
            "Epoch 49/100\n",
            "1/1 [==============================] - 0s 31ms/step - loss: 0.1485 - mae: 0.1485\n",
            "Epoch 50/100\n",
            "1/1 [==============================] - 0s 23ms/step - loss: 1.4202 - mae: 1.4202\n",
            "Epoch 51/100\n",
            "1/1 [==============================] - 0s 52ms/step - loss: 2.0673 - mae: 2.0673\n",
            "Epoch 52/100\n",
            "1/1 [==============================] - 0s 49ms/step - loss: 1.8301 - mae: 1.8301\n",
            "Epoch 53/100\n",
            "1/1 [==============================] - 0s 19ms/step - loss: 0.8781 - mae: 0.8781\n",
            "Epoch 54/100\n",
            "1/1 [==============================] - 0s 37ms/step - loss: 1.0819 - mae: 1.0819\n",
            "Epoch 55/100\n",
            "1/1 [==============================] - 0s 19ms/step - loss: 1.5141 - mae: 1.5141\n",
            "Epoch 56/100\n",
            "1/1 [==============================] - 0s 22ms/step - loss: 1.3435 - mae: 1.3435\n",
            "Epoch 57/100\n",
            "1/1 [==============================] - 0s 16ms/step - loss: 0.5824 - mae: 0.5824\n",
            "Epoch 58/100\n",
            "1/1 [==============================] - 0s 20ms/step - loss: 1.4201 - mae: 1.4201\n",
            "Epoch 59/100\n",
            "1/1 [==============================] - 0s 19ms/step - loss: 1.8251 - mae: 1.8251\n",
            "Epoch 60/100\n",
            "1/1 [==============================] - 0s 22ms/step - loss: 1.4262 - mae: 1.4262\n",
            "Epoch 61/100\n",
            "1/1 [==============================] - 0s 26ms/step - loss: 0.3543 - mae: 0.3543\n",
            "Epoch 62/100\n",
            "1/1 [==============================] - 0s 16ms/step - loss: 1.3848 - mae: 1.3848\n",
            "Epoch 63/100\n",
            "1/1 [==============================] - 0s 32ms/step - loss: 1.9878 - mae: 1.9878\n",
            "Epoch 64/100\n",
            "1/1 [==============================] - 0s 33ms/step - loss: 1.9400 - mae: 1.9400\n",
            "Epoch 65/100\n",
            "1/1 [==============================] - 0s 33ms/step - loss: 1.2873 - mae: 1.2873\n",
            "Epoch 66/100\n",
            "1/1 [==============================] - 0s 19ms/step - loss: 0.1576 - mae: 0.1576\n",
            "Epoch 67/100\n",
            "1/1 [==============================] - 0s 22ms/step - loss: 1.4850 - mae: 1.4850\n",
            "Epoch 68/100\n",
            "1/1 [==============================] - 0s 19ms/step - loss: 2.0480 - mae: 2.0480\n",
            "Epoch 69/100\n",
            "1/1 [==============================] - 0s 15ms/step - loss: 1.7065 - mae: 1.7065\n",
            "Epoch 70/100\n",
            "1/1 [==============================] - 0s 15ms/step - loss: 0.6164 - mae: 0.6164\n",
            "Epoch 71/100\n",
            "1/1 [==============================] - 0s 17ms/step - loss: 0.9968 - mae: 0.9968\n",
            "Epoch 72/100\n",
            "1/1 [==============================] - 0s 20ms/step - loss: 1.7349 - mae: 1.7349\n",
            "Epoch 73/100\n",
            "1/1 [==============================] - 0s 54ms/step - loss: 1.7948 - mae: 1.7948\n",
            "Epoch 74/100\n",
            "1/1 [==============================] - 0s 18ms/step - loss: 1.3106 - mae: 1.3106\n",
            "Epoch 75/100\n",
            "1/1 [==============================] - 0s 29ms/step - loss: 0.3164 - mae: 0.3164\n",
            "Epoch 76/100\n",
            "1/1 [==============================] - 0s 14ms/step - loss: 1.4732 - mae: 1.4732\n",
            "Epoch 77/100\n",
            "1/1 [==============================] - 0s 14ms/step - loss: 2.1753 - mae: 2.1753\n",
            "Epoch 78/100\n",
            "1/1 [==============================] - 0s 19ms/step - loss: 2.0485 - mae: 2.0485\n",
            "Epoch 79/100\n",
            "1/1 [==============================] - 0s 15ms/step - loss: 1.3226 - mae: 1.3226\n",
            "Epoch 80/100\n",
            "1/1 [==============================] - 0s 14ms/step - loss: 0.7493 - mae: 0.7493\n",
            "Epoch 81/100\n",
            "1/1 [==============================] - 0s 16ms/step - loss: 1.2323 - mae: 1.2323\n",
            "Epoch 82/100\n",
            "1/1 [==============================] - 0s 17ms/step - loss: 1.1201 - mae: 1.1201\n",
            "Epoch 83/100\n",
            "1/1 [==============================] - 0s 18ms/step - loss: 0.5349 - mae: 0.5349\n",
            "Epoch 84/100\n",
            "1/1 [==============================] - 0s 27ms/step - loss: 0.7752 - mae: 0.7752\n",
            "Epoch 85/100\n",
            "1/1 [==============================] - 0s 26ms/step - loss: 1.1286 - mae: 1.1286\n",
            "Epoch 86/100\n",
            "1/1 [==============================] - 0s 21ms/step - loss: 0.7666 - mae: 0.7666\n",
            "Epoch 87/100\n",
            "1/1 [==============================] - 0s 15ms/step - loss: 0.3437 - mae: 0.3437\n",
            "Epoch 88/100\n",
            "1/1 [==============================] - 0s 12ms/step - loss: 0.5641 - mae: 0.5641\n",
            "Epoch 89/100\n",
            "1/1 [==============================] - 0s 14ms/step - loss: 0.3482 - mae: 0.3482\n",
            "Epoch 90/100\n",
            "1/1 [==============================] - 0s 15ms/step - loss: 0.7198 - mae: 0.7198\n",
            "Epoch 91/100\n",
            "1/1 [==============================] - 0s 13ms/step - loss: 0.6676 - mae: 0.6676\n",
            "Epoch 92/100\n",
            "1/1 [==============================] - 0s 31ms/step - loss: 0.0097 - mae: 0.0097\n",
            "Epoch 93/100\n",
            "1/1 [==============================] - 0s 30ms/step - loss: 1.1415 - mae: 1.1415\n",
            "Epoch 94/100\n",
            "1/1 [==============================] - 0s 33ms/step - loss: 1.6088 - mae: 1.6088\n",
            "Epoch 95/100\n",
            "1/1 [==============================] - 0s 57ms/step - loss: 1.5010 - mae: 1.5010\n",
            "Epoch 96/100\n",
            "1/1 [==============================] - 0s 72ms/step - loss: 0.8730 - mae: 0.8730\n",
            "Epoch 97/100\n",
            "1/1 [==============================] - 0s 77ms/step - loss: 0.5648 - mae: 0.5648\n",
            "Epoch 98/100\n",
            "1/1 [==============================] - 0s 122ms/step - loss: 0.9119 - mae: 0.9119\n",
            "Epoch 99/100\n",
            "1/1 [==============================] - 0s 58ms/step - loss: 0.7226 - mae: 0.7226\n",
            "Epoch 100/100\n",
            "1/1 [==============================] - 0s 58ms/step - loss: 0.5276 - mae: 0.5276\n"
          ]
        },
        {
          "output_type": "execute_result",
          "data": {
            "text/plain": [
              "<keras.src.callbacks.History at 0x7bfe2c728af0>"
            ]
          },
          "metadata": {},
          "execution_count": 20
        }
      ]
    },
    {
      "cell_type": "code",
      "source": [
        "model.predict([17.0])"
      ],
      "metadata": {
        "colab": {
          "base_uri": "https://localhost:8080/"
        },
        "id": "fpKQ76J_T6yI",
        "outputId": "5e3519e1-1b66-4fa3-e719-d428fac1ef4f"
      },
      "execution_count": null,
      "outputs": [
        {
          "output_type": "stream",
          "name": "stdout",
          "text": [
            "1/1 [==============================] - 0s 226ms/step\n"
          ]
        },
        {
          "output_type": "execute_result",
          "data": {
            "text/plain": [
              "array([[25.163445]], dtype=float32)"
            ]
          },
          "metadata": {},
          "execution_count": 21
        }
      ]
    },
    {
      "cell_type": "markdown",
      "source": [
        "### Evaluating a model\n",
        "\n",
        "In practice , a typical workflow you go through when building neural network is:\n",
        "\n",
        "```\n",
        "Build a model --> fit in --> evaluate it --> tweak a model -->  fit it -->\n",
        "evaluate it --> tweak model --> fit in --> evaluate it...\n",
        "\n",
        "```\n",
        "\n",
        "When it comes to evaluation... there are 3 words you should memorize\n",
        "> \"Visualize\", \"visualize\" , \"Visualize\"\n",
        "\n",
        "It's a good idea to visualize:\n",
        "** The data - what data are we working with? what does it look like?\n",
        "\n",
        "** The model itself - what does our model look like?\n",
        "\n",
        "** The training of a model - How does a model perform while it learns?\n",
        "\n",
        "** The prediction of a model - How do the prediction of a model line up against the ground truth(the orignal labels)?"
      ],
      "metadata": {
        "id": "8UaheyBdZvJv"
      }
    },
    {
      "cell_type": "code",
      "source": [
        "#Make a bigger dataset\n",
        "X = tf.range(-100, 100, 4)\n",
        "X"
      ],
      "metadata": {
        "colab": {
          "base_uri": "https://localhost:8080/"
        },
        "id": "eupIy9h6cBhy",
        "outputId": "826e39b4-ac15-4b18-be30-e2c1ed45ab3b"
      },
      "execution_count": null,
      "outputs": [
        {
          "output_type": "execute_result",
          "data": {
            "text/plain": [
              "<tf.Tensor: shape=(50,), dtype=int32, numpy=\n",
              "array([-100,  -96,  -92,  -88,  -84,  -80,  -76,  -72,  -68,  -64,  -60,\n",
              "        -56,  -52,  -48,  -44,  -40,  -36,  -32,  -28,  -24,  -20,  -16,\n",
              "        -12,   -8,   -4,    0,    4,    8,   12,   16,   20,   24,   28,\n",
              "         32,   36,   40,   44,   48,   52,   56,   60,   64,   68,   72,\n",
              "         76,   80,   84,   88,   92,   96], dtype=int32)>"
            ]
          },
          "metadata": {},
          "execution_count": 22
        }
      ]
    },
    {
      "cell_type": "code",
      "source": [
        "#Make labels for the dataset\n",
        "y = X+10\n",
        "y"
      ],
      "metadata": {
        "colab": {
          "base_uri": "https://localhost:8080/"
        },
        "id": "Wr1qPBeWcVNf",
        "outputId": "5a5324c3-94b1-4b56-e6ae-e1aa638ba8f7"
      },
      "execution_count": null,
      "outputs": [
        {
          "output_type": "execute_result",
          "data": {
            "text/plain": [
              "<tf.Tensor: shape=(50,), dtype=int32, numpy=\n",
              "array([-90, -86, -82, -78, -74, -70, -66, -62, -58, -54, -50, -46, -42,\n",
              "       -38, -34, -30, -26, -22, -18, -14, -10,  -6,  -2,   2,   6,  10,\n",
              "        14,  18,  22,  26,  30,  34,  38,  42,  46,  50,  54,  58,  62,\n",
              "        66,  70,  74,  78,  82,  86,  90,  94,  98, 102, 106], dtype=int32)>"
            ]
          },
          "metadata": {},
          "execution_count": 23
        }
      ]
    },
    {
      "cell_type": "code",
      "source": [
        "# Visualize the data\n",
        "import matplotlib.pyplot as plt\n",
        "\n",
        "plt.scatter(X,y)"
      ],
      "metadata": {
        "colab": {
          "base_uri": "https://localhost:8080/",
          "height": 447
        },
        "id": "cw0s6eT4ciBk",
        "outputId": "0451404a-b33e-4189-9e3b-549a3075119c"
      },
      "execution_count": null,
      "outputs": [
        {
          "output_type": "execute_result",
          "data": {
            "text/plain": [
              "<matplotlib.collections.PathCollection at 0x7bfe3c1d6ec0>"
            ]
          },
          "metadata": {},
          "execution_count": 24
        },
        {
          "output_type": "display_data",
          "data": {
            "text/plain": [
              "<Figure size 640x480 with 1 Axes>"
            ],
            "image/png": "[encoded data removed]"
          },
          "metadata": {}
        }
      ]
    },
    {
      "cell_type": "markdown",
      "source": [
        "### The 3 sets...\n",
        "**Training set** - the model learns from this data, which is typically 70-80% of the total data you have available\n",
        "\n",
        "**Validation set** - the model gets tuned on this data, which typically 10-15% of the data available\n",
        "\n",
        "**Test set** - the model gets evaluated on this data to test what it has learned, this set is typically 10-15% of the total data availabe"
      ],
      "metadata": {
        "id": "5oOL6wN1dHp8"
      }
    },
    {
      "cell_type": "code",
      "source": [
        "#Check the length of how many samples we have\n",
        "len(X)"
      ],
      "metadata": {
        "colab": {
          "base_uri": "https://localhost:8080/"
        },
        "id": "rfAB7XBfe4Od",
        "outputId": "10e3d21f-74a8-403b-be13-6230af7a7197"
      },
      "execution_count": null,
      "outputs": [
        {
          "output_type": "execute_result",
          "data": {
            "text/plain": [
              "50"
            ]
          },
          "metadata": {},
          "execution_count": 25
        }
      ]
    },
    {
      "cell_type": "code",
      "source": [
        "# Split the data into train and test datasets\n",
        "X_train = X[:40] #first 40 are the training samples(80% of the data)\n",
        "y_train = y[:40]\n",
        "\n",
        "\n",
        "X_test = X[40:] # last 10 are the testing samples(20% of the data)\n",
        "y_test = y[40:]\n",
        "\n",
        "len(X_train) , len(X_test), len(y_train), len(y_test)"
      ],
      "metadata": {
        "colab": {
          "base_uri": "https://localhost:8080/"
        },
        "id": "OjRu5MNwfYhZ",
        "outputId": "b3865f2d-ad28-4245-eac8-ca8cac5abba9"
      },
      "execution_count": null,
      "outputs": [
        {
          "output_type": "execute_result",
          "data": {
            "text/plain": [
              "(40, 10, 40, 10)"
            ]
          },
          "metadata": {},
          "execution_count": 26
        }
      ]
    },
    {
      "cell_type": "markdown",
      "source": [
        "### Visualizing the data\n",
        "**Now we have got our data in training and test set... let's visualize it again"
      ],
      "metadata": {
        "id": "L-n-6a7EhL60"
      }
    },
    {
      "cell_type": "code",
      "source": [
        "plt.figure(figsize=(10, 7))\n",
        "# Plot training data in blue\n",
        "plt.scatter(X_train, y_train, c=\"b\", label=\"Training data\")\n",
        "# plot test data in green\n",
        "plt.scatter(X_test, y_test, c=\"g\", label=\"Testing data\")\n",
        "# Show a legend\n",
        "plt.legend();"
      ],
      "metadata": {
        "colab": {
          "base_uri": "https://localhost:8080/",
          "height": 599
        },
        "id": "A6kPQhj8hvZ8",
        "outputId": "10206098-0bf6-4e97-ac17-67ad9448c501"
      },
      "execution_count": null,
      "outputs": [
        {
          "output_type": "display_data",
          "data": {
            "text/plain": [
              "<Figure size 1000x700 with 1 Axes>"
            ],
            "image/png": "[encoded data removed]"
          },
          "metadata": {}
        }
      ]
    },
    {
      "cell_type": "code",
      "source": [
        "# Let's have look at how to create a neural network of our data\n",
        "\n",
        "#1. Create a model\n",
        "model = tf.keras.Sequential([\n",
        "    tf.keras.layers.Dense(1)\n",
        "])\n",
        "\n",
        "# 2. Compile the model\n",
        "model.compile(loss=tf.keras.losses.mae,\n",
        "              optimizer = tf.keras.optimizers.SGD(),\n",
        "              metrics = [\"mae\"] )\n",
        "\n",
        "\n",
        "# 3. fit the model\n",
        "#model.fit(X_train_shaped, y_train, epochs = 100)"
      ],
      "metadata": {
        "id": "1KMKhzDUSi0J"
      },
      "execution_count": null,
      "outputs": []
    },
    {
      "cell_type": "code",
      "source": [
        "model.summary()"
      ],
      "metadata": {
        "colab": {
          "base_uri": "https://localhost:8080/",
          "height": 280
        },
        "id": "yWX_g0aRUYQc",
        "outputId": "7a105839-fd3b-46a1-d9f7-e63667252bd8"
      },
      "execution_count": null,
      "outputs": [
        {
          "output_type": "error",
          "ename": "ValueError",
          "evalue": "This model has not yet been built. Build the model first by calling `build()` or by calling the model on a batch of data.",
          "traceback": [
            "\u001b[0;31m---------------------------------------------------------------------------\u001b[0m",
            "\u001b[0;31mValueError\u001b[0m                                Traceback (most recent call last)",
            "\u001b[0;32m<ipython-input-29-5f15418b3570>\u001b[0m in \u001b[0;36m<cell line: 1>\u001b[0;34m()\u001b[0m\n\u001b[0;32m----> 1\u001b[0;31m \u001b[0mmodel\u001b[0m\u001b[0;34m.\u001b[0m\u001b[0msummary\u001b[0m\u001b[0;34m(\u001b[0m\u001b[0;34m)\u001b[0m\u001b[0;34m\u001b[0m\u001b[0;34m\u001b[0m\u001b[0m\n\u001b[0m",
            "\u001b[0;32m/usr/local/lib/python3.10/dist-packages/keras/src/engine/training.py\u001b[0m in \u001b[0;36msummary\u001b[0;34m(self, line_length, positions, print_fn, expand_nested, show_trainable, layer_range)\u001b[0m\n\u001b[1;32m   3504\u001b[0m         \"\"\"\n\u001b[1;32m   3505\u001b[0m         \u001b[0;32mif\u001b[0m \u001b[0;32mnot\u001b[0m \u001b[0mself\u001b[0m\u001b[0;34m.\u001b[0m\u001b[0mbuilt\u001b[0m\u001b[0;34m:\u001b[0m\u001b[0;34m\u001b[0m\u001b[0;34m\u001b[0m\u001b[0m\n\u001b[0;32m-> 3506\u001b[0;31m             raise ValueError(\n\u001b[0m\u001b[1;32m   3507\u001b[0m                 \u001b[0;34m\"This model has not yet been built. \"\u001b[0m\u001b[0;34m\u001b[0m\u001b[0;34m\u001b[0m\u001b[0m\n\u001b[1;32m   3508\u001b[0m                 \u001b[0;34m\"Build the model first by calling `build()` or by calling \"\u001b[0m\u001b[0;34m\u001b[0m\u001b[0;34m\u001b[0m\u001b[0m\n",
            "\u001b[0;31mValueError\u001b[0m: This model has not yet been built. Build the model first by calling `build()` or by calling the model on a batch of data."
          ]
        }
      ]
    },
    {
      "cell_type": "code",
      "source": [
        "#Let's create a model which builds automatically by defining the input_shape argument in the first layer\n",
        "tf.random.set_seed(42)\n",
        "\n",
        "# 1.Create a model\n",
        "model = tf.keras.Sequential( [\n",
        "    tf.keras.layers.Dense(10, input_shape=[1], name = \"input_layer\"),\n",
        "    tf.keras.layers.Dense(1, name = \"output_layer\")], name = \"model_1\")\n",
        "\n",
        "# 2. compile the model\n",
        "\n",
        "model.compile(loss=tf.keras.losses.mae,\n",
        "              optimizer = tf.keras.optimizers.SGD(),\n",
        "              metrics = [\"mae\"])"
      ],
      "metadata": {
        "id": "ZUX6w6rLUjiz"
      },
      "execution_count": null,
      "outputs": []
    },
    {
      "cell_type": "code",
      "source": [
        "model.summary()"
      ],
      "metadata": {
        "id": "DOB2VldoV8Y8"
      },
      "execution_count": null,
      "outputs": []
    },
    {
      "cell_type": "markdown",
      "source": [
        "* Total param - total number of paramters in a model\n",
        "* Trainable params - these are the params(patterns) the model can update as it trains\n",
        "* Non-trainable params - this param aren't updated during training (this is typical when you bring in already learned patterns or parameters from other models during **Transfer learning**)\n",
        "\n",
        "📖 *Resource:* for a more in-depth overview of the trainable parameters within a layer, check out MIT's introduction to deep learning video.\n",
        "\n",
        "🛠 *Exercise*: try playing around with the number of hidden units in the dense layers, see how that effects the number of parameters(total and trainable) by calling model.summary()."
      ],
      "metadata": {
        "id": "udGwD5EQZYVd"
      }
    },
    {
      "cell_type": "code",
      "source": [
        "# let's fit our model to the training data\n",
        "model.fit(X_train , y_train , epochs=100, verbose = 0)"
      ],
      "metadata": {
        "id": "CaqYh5eubZrN"
      },
      "execution_count": null,
      "outputs": []
    },
    {
      "cell_type": "markdown",
      "source": [
        "### model.summary() is like a quick health check for your model, helping you verify its structure, understand its complexity, and ensure everything is set up as you intended before you start training."
      ],
      "metadata": {
        "id": "QNFx35Ef3BaE"
      }
    },
    {
      "cell_type": "code",
      "source": [
        "# get a summary of a model\n",
        "model.summary()"
      ],
      "metadata": {
        "id": "bzpgr-okeONt"
      },
      "execution_count": null,
      "outputs": []
    },
    {
      "cell_type": "code",
      "source": [
        "from tensorflow.keras.utils import plot_model\n",
        "plot_model(model=model, show_shapes = True)"
      ],
      "metadata": {
        "id": "CJ3iPUf9fK2F"
      },
      "execution_count": null,
      "outputs": []
    },
    {
      "cell_type": "markdown",
      "source": [
        "### Visualizing our model's prediction\n",
        "\n",
        "To visualize predictions, it's a good idea to plot them against the ground truth labels.\n",
        "\n",
        "Often you'll see this in the form of y_test, y_true versus y_pred(ground truth versus your model's predictions)."
      ],
      "metadata": {
        "id": "HZwubq1riEaP"
      }
    },
    {
      "cell_type": "code",
      "source": [
        "# Make some predictions\n",
        "y_pred = model.predict(X_test)\n",
        "y_pred"
      ],
      "metadata": {
        "id": "B5VUszVXiLpi"
      },
      "execution_count": null,
      "outputs": []
    },
    {
      "cell_type": "code",
      "source": [
        "y_test"
      ],
      "metadata": {
        "id": "DTjy2cm524pL"
      },
      "execution_count": null,
      "outputs": []
    },
    {
      "cell_type": "markdown",
      "source": [
        "**Note: ** If you feel like you're going to reuse some kind of functionality in the future, it's a good idea to turn it into a function"
      ],
      "metadata": {
        "id": "8ywFGsEe3625"
      }
    },
    {
      "cell_type": "code",
      "source": [
        "import matplotlib.pyplot as plt\n",
        "# Let's create a plotting function\n",
        "def plot_predictions(train_data = X_train,\n",
        "                     train_labels = y_train,\n",
        "                     test_data = X_test,\n",
        "                     test_labels = y_test,\n",
        "                     predictions = y_pred):\n",
        "#Plots training data, test data and compare predictions to ground labels.\n",
        "\n",
        "  plt.figure(figsize=(10,7))\n",
        "# plot training data in blue\n",
        "  plt.scatter(train_data, train_labels, c=\"b\", label = \"Training data\")\n",
        "#plot testing data in green\n",
        "  plt.scatter(test_data, test_labels, c=\"g\", label = \"Testing data\" )\n",
        "#plot model's prediction in red\n",
        "  plt.scatter(test_data, predictions, c=\"r\", label = \"Predictions\")\n",
        "#show the legend\n",
        "  plt.legend();\n"
      ],
      "metadata": {
        "id": "oB9VqMfI4gbG"
      },
      "execution_count": null,
      "outputs": []
    },
    {
      "cell_type": "code",
      "source": [
        "plot_predictions()"
      ],
      "metadata": {
        "id": "09zEFze37cVn"
      },
      "execution_count": null,
      "outputs": []
    },
    {
      "cell_type": "markdown",
      "source": [
        "### Evaluating our model's prediction with regression evaluation metrics\n",
        "\n",
        "### Evaluating our model's predictions with regression evaluation metrics\n",
        "\n",
        "Depending on the problem you're working on, there will be different evaluation metrics to evaluate your model's performance.\n",
        "\n",
        "Since we're working on a regression, two of the main metrics:\n",
        "* MAE - mean absolute error, \"on average, how wrong is each of my model's predictions\"\n",
        "* MSE -  mean square error,\"square the average errors"
      ],
      "metadata": {
        "id": "_sfQpMi29z6S"
      }
    },
    {
      "cell_type": "code",
      "source": [
        "#Evaluate the model on test\n",
        "model.evaluate(X_test, y_test)"
      ],
      "metadata": {
        "id": "faJj6WuR99Ma"
      },
      "execution_count": null,
      "outputs": []
    },
    {
      "cell_type": "code",
      "source": [
        "# Calculate the mean absolute error\n",
        "mae = tf.metrics.mean_absolute_error(y_true=y_test,\n",
        "                                    y_pred = tf.constant(y_pred))\n",
        "mae"
      ],
      "metadata": {
        "id": "OLEqnba6CLQR"
      },
      "execution_count": null,
      "outputs": []
    },
    {
      "cell_type": "code",
      "source": [
        "tf.constant(y_pred)"
      ],
      "metadata": {
        "id": "sZa0qoYvB-tr"
      },
      "execution_count": null,
      "outputs": []
    },
    {
      "cell_type": "code",
      "source": [
        "y_test"
      ],
      "metadata": {
        "id": "Tvj89MfuE4QZ"
      },
      "execution_count": null,
      "outputs": []
    },
    {
      "cell_type": "code",
      "source": [
        "tf.squeeze(y_pred)"
      ],
      "metadata": {
        "id": "yGTXv4OVFczG"
      },
      "execution_count": null,
      "outputs": []
    },
    {
      "cell_type": "code",
      "source": [
        "# Calculate the mean absolute error\n",
        "mae = tf.metrics.mean_absolute_error(y_true = y_test,\n",
        "                                     y_pred = tf.squeeze(y_pred))\n",
        "mae"
      ],
      "metadata": {
        "id": "HPpt3rtFFqqQ"
      },
      "execution_count": null,
      "outputs": []
    },
    {
      "cell_type": "code",
      "source": [
        "# Mean squared error\n",
        "mse = tf.metrics.mean_squared_error(y_true = y_test,\n",
        "                                    y_pred = tf.squeeze(y_pred))\n",
        "mse"
      ],
      "metadata": {
        "id": "eZfMGpEuH_VD"
      },
      "execution_count": null,
      "outputs": []
    },
    {
      "cell_type": "code",
      "source": [
        "# Make some functions to reuse MAE and MSE\n",
        "def mae(y_test, y_pred):\n",
        "  return tf.metrics.mean_absolute_error(y_true = y_test,\n",
        "                                        y_pred = tf.squeeze(y_pred))\n",
        "def mse(y_test, y_pred):\n",
        "  return tf.metrics.mean_squared_error(y_true=y_test,\n",
        "                                       y_pred = tf.squeeze(y_pred))\n",
        "\n",
        "mae, mse"
      ],
      "metadata": {
        "id": "3t9KX2txJw7M"
      },
      "execution_count": null,
      "outputs": []
    },
    {
      "cell_type": "markdown",
      "source": [
        "### Running experiments to improve our model\n",
        "\n",
        "```\n",
        "Build a model ---> fit in --> evaluate it --> tweak it --> fit it --> evaluate it --> tweak it --> fit it --> evaluate it...\n",
        "```\n",
        "\n",
        "1. Get more data - get more example for your model to train on ( more opporutnities to learn patterns or relationships between features and labels).\n",
        "2. Make your model larger (using a more complex model) - this might come in the form of more layers or more hidden units in each layers.\n",
        "3. Train for longer - give your model more of a chance to find patterns in the data\n",
        "\n",
        "Let's do 3 modelling experiments\n",
        "1. `model_1` : same as orignal model , 1 layer, trained for 100 epochs\n",
        "2. `model_2` : 2 layers, trained for 100 epochs\n",
        "2. `model_3` : 2 layers, trained for 500 epochs\n",
        "\n",
        "**Build model_1**"
      ],
      "metadata": {
        "id": "89l24gjPc8wl"
      }
    },
    {
      "cell_type": "code",
      "source": [
        "#set random seed\n",
        "tf.random.set_seed(42)\n",
        "\n",
        "#Create a model\n",
        "model_1 = tf.keras.Sequential([\n",
        "    tf.keras.layers.Dense(1)\n",
        "])\n",
        "\n",
        "#compile the model\n",
        "model_1.compile(loss=tf.keras.losses.mae,\n",
        "                optimizer = tf.keras.optimizers.SGD(),\n",
        "                metrics=[\"mae\"])\n",
        "X_train_reshape = tf.reshape(X_train, shape=([40,1]))\n",
        "y_train_reshape = tf.reshape(y_train, shape=([40,1]))\n",
        "\n",
        "\n",
        "\n",
        "#fit the model\n",
        "model_1.fit(X_train_reshape, y_train_reshape, epochs=100)"
      ],
      "metadata": {
        "id": "1RSG7bzneRzN"
      },
      "execution_count": null,
      "outputs": []
    },
    {
      "cell_type": "code",
      "source": [
        "# make and plot predictions for model_1\n",
        "y_preds_1 = model_1.predict(X_test)\n",
        "plot_predictions(predictions=y_preds_1)"
      ],
      "metadata": {
        "id": "hbSPnwT5oW3b"
      },
      "execution_count": null,
      "outputs": []
    },
    {
      "cell_type": "code",
      "source": [
        "# calculate model_1 evaluation metrics\n",
        "mae_1 = tf.keras.metrics.mean_absolute_error(y_test, tf.squeeze(y_preds_1))\n",
        "mse_1 = mse(y_test,\n",
        "            tf.squeeze(y_preds_1))\n",
        "mae_1, mse_1"
      ],
      "metadata": {
        "id": "oisTBlg0pm6u"
      },
      "execution_count": null,
      "outputs": []
    },
    {
      "cell_type": "markdown",
      "source": [
        "### Build model_2\n",
        "\n",
        "* 2 densed layer, trained for 100 epochs"
      ],
      "metadata": {
        "id": "jo3f2NR3s65y"
      }
    },
    {
      "cell_type": "code",
      "source": [
        "# Create a model\n",
        "model_2 = tf.keras.Sequential([\n",
        "    tf.keras.layers.Dense(10),\n",
        "    tf.keras.layers.Dense(1)\n",
        "])\n",
        "# compile the model\n",
        "model_2.compile(loss=tf.keras.losses.mae,\n",
        "                optimizer = tf.keras.optimizers.SGD(),\n",
        "                metrics = [\"mse\"])\n",
        "X_train_reshape = tf.reshape(X_train, shape=([40,1]))\n",
        "y_train_reshape = tf.reshape(y_train, shape=([40,1]))\n",
        "# Fit the mode\n",
        "model_2.fit(X_train_reshape,y_train_reshape, epochs=100)"
      ],
      "metadata": {
        "id": "gb_rneXjtC7W"
      },
      "execution_count": null,
      "outputs": []
    },
    {
      "cell_type": "code",
      "source": [
        "#make and plot predictionds for model_2\n",
        "y_preds_2 = model_2.predict(X_test)\n",
        "plot_predictions(predictions=y_preds_2)"
      ],
      "metadata": {
        "id": "I7L3D4gkuySB"
      },
      "execution_count": null,
      "outputs": []
    },
    {
      "cell_type": "code",
      "source": [
        "#calculate model_2 evaluation metrics\n",
        "mae_2 = tf.keras.metrics.mean_absolute_error(y_test, tf.squeeze(y_preds_2))\n",
        "mse_2 = tf.keras.metrics.mean_squared_error(y_test,tf.squeeze(y_preds_2))\n",
        "mae_2, mse_2"
      ],
      "metadata": {
        "id": "YPker64qvZoC"
      },
      "execution_count": null,
      "outputs": []
    },
    {
      "cell_type": "markdown",
      "source": [
        "### Build model_2\n",
        "\n",
        "* 2 densed layer, trained for 500 epochs"
      ],
      "metadata": {
        "id": "s1hUzBdDxkvh"
      }
    },
    {
      "cell_type": "code",
      "source": [
        "# Create a model\n",
        "model_3 = tf.keras.Sequential([\n",
        "    tf.keras.layers.Dense(10),\n",
        "    tf.keras.layers.Dense(1)\n",
        "])\n",
        "# compile the model\n",
        "model_3.compile(loss=tf.keras.losses.mae,\n",
        "                optimizer = tf.keras.optimizers.SGD(),\n",
        "                metrics = [\"mae\"])\n",
        "X_train_reshape = tf.reshape(X_train, shape=([40,1]))\n",
        "\n",
        "# Fit the mode\n",
        "model_3.fit(X_train_reshape,y_train, epochs=500)"
      ],
      "metadata": {
        "id": "qZFG-JuNvqpu"
      },
      "execution_count": null,
      "outputs": []
    },
    {
      "cell_type": "code",
      "source": [
        "#make and plot some predictions\n",
        "y_preds_3 = model_3.predict(X_test)\n",
        "plot_predictions(predictions=y_preds_3)"
      ],
      "metadata": {
        "id": "r84DE6WgyTWt"
      },
      "execution_count": null,
      "outputs": []
    },
    {
      "cell_type": "code",
      "source": [
        "#\n",
        "mae_3 = tf.keras.metrics.mean_absolute_error(y_test, tf.squeeze(y_preds_3))\n",
        "mse_3 = tf.keras.metrics.mean_squared_error(y_test, tf.squeeze(y_preds_3))\n",
        "mae_3, mse_3"
      ],
      "metadata": {
        "id": "Xs4D5HvKzhG6"
      },
      "execution_count": null,
      "outputs": []
    },
    {
      "cell_type": "markdown",
      "source": [
        "🔑 *Note:* you want to start with small experiments (small models) and make sure they work and then increase their scale when necessary."
      ],
      "metadata": {
        "id": "4JmJt-Gg1Eng"
      }
    },
    {
      "cell_type": "markdown",
      "source": [
        "*Comparing the results of our experiments*\n",
        "\n",
        "we've run a few experiments ,let's compare the results."
      ],
      "metadata": {
        "id": "347bE-3j0YUh"
      }
    },
    {
      "cell_type": "code",
      "source": [
        "#Let's compare our model's results using pandas dataframe\n",
        "import pandas as pd\n",
        "\n",
        "model_results = [[\"model_1\", mae_1.numpy(), mse_1.numpy()],\n",
        "                 [\"model_2\" , mae_2.numpy(), mse_2.numpy()],\n",
        "                 [\"model_3\", mae_3.numpy(), mse_3.numpy()]]\n",
        "all_results = pd.DataFrame(model_results, columns = [\"model\", \"mae\", \"mse\"])\n",
        "all_results"
      ],
      "metadata": {
        "id": "H9JBoSKp1Ren"
      },
      "execution_count": null,
      "outputs": []
    },
    {
      "cell_type": "markdown",
      "source": [
        "### looks like `model_2` performed best"
      ],
      "metadata": {
        "id": "9-iWG1Gs73-a"
      }
    },
    {
      "cell_type": "code",
      "source": [
        "model_2.summary()"
      ],
      "metadata": {
        "id": "HZnxghsm7n-o"
      },
      "execution_count": null,
      "outputs": []
    },
    {
      "cell_type": "markdown",
      "source": [
        "**NOTE**:  One of your main goals should be able to minimize the time between your experiments. The more experiments you do, the more things you'll figure out which don't work and in turn, get closer to figuring out what does work. Remember the ML practisioner's motto: \"Experiment, experiment, experiment\""
      ],
      "metadata": {
        "id": "CpHU7ZxC8e-y"
      }
    },
    {
      "cell_type": "markdown",
      "source": [
        "## Tracking your experiments\n",
        "\n",
        "One really good habit in machine learning modelling is to track the results of your experiments.\n",
        "And when doing so, it can be tedious if you're running lots of experiments.\n",
        "Luckily, there are tools to help us!\n",
        "\n",
        "📖 *Resource:* As you build more models, You'll want to look into using:\n",
        "\n",
        "* TensorBoard - a component of the tensorFlow library to help track modelling experiments (we'll see this one later).\n",
        "* Weights & Biases - a tool for tracking all of kinds of machine learning experiments (plugs straight into TensorBoard)."
      ],
      "metadata": {
        "id": "-eRrRymJ9e_i"
      }
    },
    {
      "cell_type": "markdown",
      "source": [
        "### Saving our model\n",
        "\n",
        "Saving our models allows us to use them outside of google colab(or wherver they were trained) such as in a web application or a mobile app\n",
        "\n",
        "There are two main formats we can save our model's too:\n",
        "1.  The SavedModel Format\n",
        "2. The HDF5 format"
      ],
      "metadata": {
        "id": "5cERsE09_uif"
      }
    },
    {
      "cell_type": "code",
      "source": [
        "# Save model using the SavedModel format\n",
        "model_2.save(\"best_model_SavedModel_format\")"
      ],
      "metadata": {
        "id": "gniGA1L5UAa5"
      },
      "execution_count": null,
      "outputs": []
    },
    {
      "cell_type": "code",
      "source": [
        "#Save model using HDF5 format\n",
        "model_2.save(\"best_model_HDF5_format.h5\")\n"
      ],
      "metadata": {
        "id": "W_bA7O4tNs1m"
      },
      "execution_count": null,
      "outputs": []
    },
    {
      "cell_type": "markdown",
      "source": [
        "### Loading the saved model"
      ],
      "metadata": {
        "id": "tOrJ7kEfY6nl"
      }
    },
    {
      "cell_type": "code",
      "source": [
        "#Load in the SavedModel format\n",
        "loaded_SavedModel_format = tf.keras.models.load_model(\"/content/best_model_SavedModel_format\")\n",
        "loaded_SavedModel_format.summary()"
      ],
      "metadata": {
        "id": "EEhEqYWOY8iZ"
      },
      "execution_count": null,
      "outputs": []
    },
    {
      "cell_type": "code",
      "source": [
        "#Compare model_2 predictions with SavedModel format model predictions\n",
        "model_2_preds = model_2.predict(X_test)\n",
        "loaded_SavedModel_format = loaded_SavedModel_format.predict(X_test)\n",
        "model_2_preds == loaded_SavedModel_format\n"
      ],
      "metadata": {
        "id": "_54_O9j_Z8By"
      },
      "execution_count": null,
      "outputs": []
    },
    {
      "cell_type": "code",
      "source": [
        "#load in a model using the .h5 format\n",
        "loaded_h5_model = tf.keras.models.load_model(\"/content/best_model_HDF5_format.h5\")\n",
        "loaded_h5_model.summary()"
      ],
      "metadata": {
        "id": "2wucQPvBfJYn"
      },
      "execution_count": null,
      "outputs": []
    },
    {
      "cell_type": "code",
      "source": [
        "model_2.summary()"
      ],
      "metadata": {
        "id": "w-F0X3o1fhcz"
      },
      "execution_count": null,
      "outputs": []
    },
    {
      "cell_type": "code",
      "source": [
        "#Check to see if loaded.h5 model predictions match model_2\n",
        "model_2_preds = model_2.predict(X_test)\n",
        "loaded_h5_model = loaded_h5_model.predict(X_test)\n",
        "model_2_preds == loaded_h5_model"
      ],
      "metadata": {
        "id": "j2waeYcZfk76"
      },
      "execution_count": null,
      "outputs": []
    },
    {
      "cell_type": "code",
      "source": [
        "#Compare mae of model_2_preds and loaded SavedModel_preds\n",
        "from sklearn.metrics import mean_absolute_error\n",
        "mean_absolute_error(y_true=y_test, y_pred=model_2_preds) == mean_absolute_error(y_true=y_test, y_pred=loaded_SavedModel_format)"
      ],
      "metadata": {
        "id": "iT9Dd_n4bI2X"
      },
      "execution_count": null,
      "outputs": []
    },
    {
      "cell_type": "code",
      "source": [
        "model_2_preds.squeeze() == loaded_SavedModel_format.squeeze()"
      ],
      "metadata": {
        "id": "N2uI3NaEeZZl"
      },
      "execution_count": null,
      "outputs": []
    },
    {
      "cell_type": "code",
      "source": [
        "loaded_SavedModel_format.squeeze()"
      ],
      "metadata": {
        "id": "9blbGpsneek3"
      },
      "execution_count": null,
      "outputs": []
    },
    {
      "cell_type": "markdown",
      "source": [
        "### Download a model (or any other file ) from google colab\n",
        "\n",
        "If you want to download your files from Google Colab:\n",
        "\n",
        "1. You can go to the \"files\" tab and right click on the file you're after and click \"download\"\n",
        "2. use code(see te below cell)\n",
        "3. save it to google drive by connecting google drive and copying it there(see 2nd code cell)"
      ],
      "metadata": {
        "id": "iKL0Ss0ZiwGd"
      }
    },
    {
      "cell_type": "code",
      "source": [
        "# Download a file from google colab\n",
        "from google.colab import files\n",
        "files.download(\"/content/best_model_HDF5_format.h5\")"
      ],
      "metadata": {
        "id": "Ye4lAy3Ji38h"
      },
      "execution_count": null,
      "outputs": []
    },
    {
      "cell_type": "code",
      "source": [
        "#Save a file from google ccolab to google drive(requires mounting google drive)\n",
        "!cp /content/best_model_HDF5_format.h5  /content/drive/MyDrive/Tensorflow_course"
      ],
      "metadata": {
        "id": "UfhNwlPelTez"
      },
      "execution_count": null,
      "outputs": []
    },
    {
      "cell_type": "code",
      "source": [
        "!ls /content/drive/MyDrive/Tensorflow_course"
      ],
      "metadata": {
        "id": "rMFDjBchl10Y"
      },
      "execution_count": null,
      "outputs": []
    },
    {
      "cell_type": "markdown",
      "source": [
        "A larger example"
      ],
      "metadata": {
        "id": "YYR67Bgv7y8m"
      }
    },
    {
      "cell_type": "code",
      "source": [
        "#Import arequired libraries\n",
        "import tensorflow as tf\n",
        "import pandas as pd\n",
        "import matplotlib.pyplot as plt"
      ],
      "metadata": {
        "id": "CZdUb3n374dG"
      },
      "execution_count": null,
      "outputs": []
    },
    {
      "cell_type": "code",
      "source": [
        "# Read in the insurance dataset\n",
        "insurance = pd.read_csv(\"https://raw.githubusercontent.com/stedy/Machine-Learning-with-R-datasets/master/insurance.csv\")\n",
        "insurance"
      ],
      "metadata": {
        "id": "eKNEMp2s-6Qj"
      },
      "execution_count": null,
      "outputs": []
    },
    {
      "cell_type": "code",
      "source": [
        "insurance[\"smoker\"], insurance[\"age\"]"
      ],
      "metadata": {
        "id": "u7KgWtHI_-vL"
      },
      "execution_count": null,
      "outputs": []
    },
    {
      "cell_type": "code",
      "source": [
        "#Let's try to once-hot encode our dataframe so it's all numbers\n",
        "insurance_one_hot = pd.get_dummies(insurance)\n",
        "insurance_one_hot.head()"
      ],
      "metadata": {
        "id": "zuCv9v-1BQ2N"
      },
      "execution_count": null,
      "outputs": []
    },
    {
      "cell_type": "code",
      "source": [
        "# Create X & y values(features and labels)\n",
        "X = insurance_one_hot.drop(\"charges\", axis=1)\n",
        "y = insurance_one_hot[\"charges\"]\n",
        "X,y"
      ],
      "metadata": {
        "id": "SEsraDivB9ui"
      },
      "execution_count": null,
      "outputs": []
    },
    {
      "cell_type": "code",
      "source": [
        "X.head()"
      ],
      "metadata": {
        "id": "QxmUM_hQDXBF"
      },
      "execution_count": null,
      "outputs": []
    },
    {
      "cell_type": "code",
      "source": [
        "y.head()"
      ],
      "metadata": {
        "id": "2aBMZc_3DZ6d"
      },
      "execution_count": null,
      "outputs": []
    },
    {
      "cell_type": "code",
      "source": [
        "# Creating training and testing datasets\n",
        "from sklearn .model_selection import train_test_split\n",
        "X_train, X_test, y_train, y_test = train_test_split(X,y, test_size=0.2, random_state = 42)\n",
        "len(X), len(X_train), len(X_test)"
      ],
      "metadata": {
        "id": "kXfdxPMpD024"
      },
      "execution_count": null,
      "outputs": []
    },
    {
      "cell_type": "code",
      "source": [
        "\n",
        "\n",
        "\n",
        "# build a neural network ( sort of like model_2 above)\n",
        "tf.random.set_seed(42)\n",
        "\n",
        "# 1. create a model\n",
        "insurance_model = tf.keras.Sequential([\n",
        "    tf.keras.layers.Dense(10),\n",
        "    tf.keras.layers.Dense(1)\n",
        "])\n",
        "\n",
        "# 2. Compile the model\n",
        "insurance_model.compile(loss=tf.keras.losses.mae,\n",
        "              optimizer=tf.keras.optimizers.SGD(),\n",
        "              metrics=[\"mae\"])\n",
        "\n",
        "# 3. Fit the model\n",
        "insurance_model.fit(X_train.astype('float32'), y_train.astype('float32'), epochs=100) # Use the correct model name 'insurance_model'"
      ],
      "metadata": {
        "id": "MEdOJJWgFmoe"
      },
      "execution_count": null,
      "outputs": []
    },
    {
      "cell_type": "code",
      "source": [
        "# check the results of the insurance model\n",
        "# Convert X_test and y_test to float32 NumPy arrays\n",
        "X_test = np.asarray(X_test).astype('float32')\n",
        "y_test = np.asarray(y_test).astype('float32')\n",
        "\n",
        "# check the results of the insurance model\n",
        "insurance_model.evaluate(X_test, y_test)\n"
      ],
      "metadata": {
        "id": "1vdoTAA1Kp1q"
      },
      "execution_count": null,
      "outputs": []
    },
    {
      "cell_type": "markdown",
      "source": [
        "### Right now it looks like our model isn't performing well...let's try to improve it\n",
        "\n",
        "To try improve our model,we'll run 2 experiments\n",
        "1. Add an extra layer with more hidden units and use Adam optimizer\n",
        "2. Same as above but train for longer(200 epochs)\n",
        "3. (insert your experiment here)"
      ],
      "metadata": {
        "id": "5dsqHNt2zi_b"
      }
    },
    {
      "cell_type": "code",
      "source": [
        "X_train, y_train"
      ],
      "metadata": {
        "id": "I3mniy8V2BvK"
      },
      "execution_count": null,
      "outputs": []
    },
    {
      "cell_type": "code",
      "source": [
        "# Set random seed\n",
        "tf.random.set_seed(42)\n",
        "\n",
        "#1.create a model\n",
        "insurance_model_2 = tf.keras.Sequential([\n",
        "    tf.keras.layers.Dense(100),\n",
        "    tf.keras.layers.Dense(10),\n",
        "    tf.keras.layers.Dense(1)\n",
        "])\n",
        "\n",
        "#2. compile the model\n",
        "insurance_model_2.compile(loss=tf.keras.losses.mae,\n",
        "                          optimizer = tf.keras.optimizers.Adam(),\n",
        "                          metrics = [\"mae\"])\n",
        "#3. fit the model\n",
        "insurance_model_2.fit(X_train.astype('float32'),y_train.astype('float32'), epochs=100, verbose=1)"
      ],
      "metadata": {
        "id": "uVET2a43zvSg"
      },
      "execution_count": null,
      "outputs": []
    },
    {
      "cell_type": "code",
      "source": [
        "#Evaluate the larger model\n",
        "insurance_model_2.evaluate(X_test, y_test)"
      ],
      "metadata": {
        "id": "jHuTPd4j1l07"
      },
      "execution_count": null,
      "outputs": []
    },
    {
      "cell_type": "code",
      "source": [
        "insurance_model.evaluate(X_train.astype('float32'), y_train.astype('float32'))"
      ],
      "metadata": {
        "id": "7KF5CZQz20x4"
      },
      "execution_count": null,
      "outputs": []
    },
    {
      "cell_type": "code",
      "source": [
        "#Set random seed\n",
        "tf.random.set_seed(42)\n",
        "\n",
        "# 1. create a model\n",
        "insurance_model_3 = tf.keras.Sequential([\n",
        "    tf.keras.layers.Dense(100),\n",
        "    tf.keras.layers.Dense(10),\n",
        "    tf.keras.layers.Dense(1)\n",
        "])\n",
        "\n",
        "#2. compile the model\n",
        "insurance_model_3.compile(loss=tf.keras.losses.mae,\n",
        "                          optimizer = tf.keras.optimizers.Adam(),\n",
        "                          metrics = [\"mae\"])\n",
        "#3. fit the model\n",
        "history = insurance_model_3.fit(X_train.astype('float32'), y_train.astype('float32'), epochs=200)"
      ],
      "metadata": {
        "id": "3Z34jkcS3nUt"
      },
      "execution_count": null,
      "outputs": []
    },
    {
      "cell_type": "code",
      "source": [
        "#evaluate the model\n",
        "insurance_model_3.evaluate(X_test.astype('float32'), y_test.astype('float32'))"
      ],
      "metadata": {
        "id": "wV_yIxU44hEo"
      },
      "execution_count": null,
      "outputs": []
    },
    {
      "cell_type": "code",
      "source": [
        "insurance_model.evaluate(X_test.astype('float32'), y_test.astype('float32'))"
      ],
      "metadata": {
        "id": "wX1gY75X5XDT"
      },
      "execution_count": null,
      "outputs": []
    },
    {
      "cell_type": "code",
      "source": [
        "#Plot history (also known as loss curve or training curve)\n",
        "pd.DataFrame(history.history).plot()\n",
        "plt.ylabel(\"loss\")\n",
        "plt.xlabel(\"epochs\")"
      ],
      "metadata": {
        "id": "odP9oKcS5liF"
      },
      "execution_count": null,
      "outputs": []
    },
    {
      "cell_type": "markdown",
      "source": [
        "**Question:** How long should you train for?\n",
        "\n",
        "It depends. Reallyy... it depends on the problem you're working on. However, many people have asked this question before... so Tensorflow has a solution! It's called the EarlyStopping Callback which is a TensorFlow component you can add to your model to stop training on improving a certain metric."
      ],
      "metadata": {
        "id": "ED6Z-Ne-7E8m"
      }
    },
    {
      "cell_type": "markdown",
      "source": [
        "### Preprocessing data(normalization and standardization)\n",
        "\n",
        "In terms of scaling values, neural network tend to prefer normalization\n",
        "\n",
        "If you're not sure which to use, you could try and see which performs better"
      ],
      "metadata": {
        "id": "iHMsOz2g9As7"
      }
    },
    {
      "cell_type": "code",
      "source": [
        "import pandas as pd\n",
        "import matplotlib.pyplot as plt\n",
        "import tensorflow as tf\n",
        "\n",
        "insurance = pd.read_csv(\"https://raw.githubusercontent.com/stedy/Machine-Learning-with-R-datasets/master/insurance.csv\")\n",
        "insurance"
      ],
      "metadata": {
        "id": "dHikbOCxm9Bu"
      },
      "execution_count": null,
      "outputs": []
    },
    {
      "cell_type": "code",
      "source": [
        "from sklearn.compose import make_column_transformer\n",
        "from sklearn.preprocessing import MinMaxScaler, OneHotEncoder\n",
        "from sklearn.model_selection import train_test_split\n",
        "\n",
        "#create a column transformer\n",
        "ct = make_column_transformer((MinMaxScaler(), [\"age\",\"bmi\", \"children\"]),  # turn all  these values in the column between 0 and 1\n",
        "                             (OneHotEncoder(handle_unknown=\"ignore\"),[\"sex\", \"smoker\",\"region\"]))\n",
        "\n",
        "# Create X and y\n",
        "X = insurance.drop(\"charges\", axis=1)\n",
        "y = insurance[\"charges\"]\n",
        "\n",
        "# build our train and test data\n",
        "X_train, X_test, y_train, y_test = train_test_split(X,y, test_size=0.2, random_state=42)\n",
        "\n",
        "#Fit the column transformer to our training data\n",
        "ct.fit(X_train) #ct.fit(X_train) makes the column transformer learn how to handle the different types of data in your training set.\n",
        "\n",
        "#Transform the training and testing data with normalization (MinMaxScalar) and OneHotEncoder\n",
        "X_train_normal = ct.transform(X_train) # makes a replica having some rules where all columns work perfectly\n",
        "X_test_normal = ct.transform(X_test)\n"
      ],
      "metadata": {
        "id": "uPIh_QbIognh"
      },
      "execution_count": null,
      "outputs": []
    },
    {
      "cell_type": "code",
      "source": [
        "#How our data looks like\n",
        "X_train.loc[0]"
      ],
      "metadata": {
        "id": "dzisOldLsWwo"
      },
      "execution_count": null,
      "outputs": []
    },
    {
      "cell_type": "code",
      "source": [
        "X_train_normal[0]"
      ],
      "metadata": {
        "id": "M6wraA0ysqTl"
      },
      "execution_count": null,
      "outputs": []
    },
    {
      "cell_type": "code",
      "source": [
        "X_train.shape, X_train_normal.shape"
      ],
      "metadata": {
        "id": "o8zbqMnEvo24"
      },
      "execution_count": null,
      "outputs": []
    },
    {
      "cell_type": "markdown",
      "source": [
        "Beautiful! Our data has been normalized and one hot encoded. Now let's build a neural network model on it to see how it goes"
      ],
      "metadata": {
        "id": "uhzgwZM3v0Zr"
      }
    },
    {
      "cell_type": "code",
      "source": [
        "#Build a neural network model to fit on our normalized data\n",
        " # set random seed\n",
        "tf.random.set_seed(42)\n",
        "\n",
        "#1. Create a model\n",
        "insurance_model_4 = tf.keras.Sequential([\n",
        "    tf.keras.layers.Dense(100),\n",
        "    tf.keras.layers.Dense(10),\n",
        "    tf.keras.layers.Dense(1)\n",
        "])\n",
        "\n",
        "#2. compile thhe model\n",
        "insurance_model_4.compile(loss=tf.keras.losses.mae,\n",
        "                          optimizer = tf.keras.optimizers.Adam(),\n",
        "                          metrics = [\"mae\"])\n",
        "\n",
        "#3.fit the model\n",
        "insurance_model_4.fit(X_train_normal, y_train, epochs=100)"
      ],
      "metadata": {
        "id": "MrPzsMhhwMnn"
      },
      "execution_count": null,
      "outputs": []
    },
    {
      "cell_type": "code",
      "source": [
        "#Evaluate our insurance_model_4 trained on normalized data\n",
        "insurance_model_4.evaluate(X_test_normal, y_test)"
      ],
      "metadata": {
        "id": "gR7mZ3OXyIt-"
      },
      "execution_count": null,
      "outputs": []
    },
    {
      "cell_type": "code",
      "source": [
        "#Insurance model 2\n",
        "#9/9 [==============================] - 0s 2ms/step - loss: 3484.7649 - mae: 3484.7649\n",
        "#[3484.764892578125, 3484.764892578125]"
      ],
      "metadata": {
        "id": "Demtxs3Sy0B8"
      },
      "execution_count": null,
      "outputs": []
    },
    {
      "cell_type": "code",
      "source": [
        "X"
      ],
      "metadata": {
        "id": "7yuvkpCG9Hxk"
      },
      "execution_count": null,
      "outputs": []
    },
    {
      "cell_type": "code",
      "source": [
        "X[\"age\"].plot(kind=\"hist\")"
      ],
      "metadata": {
        "id": "mUM8yS0lktCA"
      },
      "execution_count": null,
      "outputs": []
    },
    {
      "cell_type": "code",
      "source": [
        "X[\"bmi\"].plot(kind=\"hist\")"
      ],
      "metadata": {
        "id": "c9bCKOuhlCtJ"
      },
      "execution_count": null,
      "outputs": []
    },
    {
      "cell_type": "code",
      "source": [
        "X[\"children\"].value_counts()"
      ],
      "metadata": {
        "id": "k5J0bDtolgTS"
      },
      "execution_count": null,
      "outputs": []
    }
  ]
}